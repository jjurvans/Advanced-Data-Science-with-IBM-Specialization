{
    "cells": [
        {
            "cell_type": "markdown",
            "metadata": {},
            "source": "# Assignment 4\n## Understaning scaling of linear algebra operations on Apache Spark using Apache SystemML\n\nIn this assignment we want you to understand how to scale linear algebra operations from a single machine to multiple machines, memory and CPU cores using Apache SystemML. Therefore we want you to understand how to migrate from a numpy program to a SystemML DML program. Don't worry. We will give you a lot of hints. Finally, you won't need this knowledge anyways if you are sticking to Keras only, but once you go beyond that point you'll be happy to see what's going on behind the scenes.\n\nSo the first thing we need to ensure is that we are on the latest version of SystemML, which is 1.2.0:\n\nThe steps are:\n- pip install\n- start execution at the cell with the version - check"
        },
        {
            "cell_type": "code",
            "execution_count": 2,
            "metadata": {},
            "outputs": [],
            "source": "from IPython.display import Markdown, display\ndef printmd(string):\n    display(Markdown('# <span style=\"color:red\">'+string+'</span>'))\n\n\nif ('sc' in locals() or 'sc' in globals()):\n    printmd('<<<<<!!!!! It seems that you are running in a IBM Watson Studio Apache Spark Notebook. Please run it in an IBM Watson Studio Default Runtime (without Apache Spark) !!!!!>>>>>')\n    \n"
        },
        {
            "cell_type": "code",
            "execution_count": 3,
            "metadata": {},
            "outputs": [
                {
                    "name": "stdout",
                    "output_type": "stream",
                    "text": "/opt/conda/envs/Python-3.7-OpenCE/lib/python3.7/site-packages/secretstorage/dhcrypto.py:16: CryptographyDeprecationWarning: int_from_bytes is deprecated, use int.from_bytes instead\n  from cryptography.utils import int_from_bytes\n/opt/conda/envs/Python-3.7-OpenCE/lib/python3.7/site-packages/secretstorage/util.py:25: CryptographyDeprecationWarning: int_from_bytes is deprecated, use int.from_bytes instead\n  from cryptography.utils import int_from_bytes\nRequirement already satisfied: pyspark==2.4.5 in /opt/conda/envs/Python-3.7-OpenCE/lib/python3.7/site-packages (2.4.5)\nRequirement already satisfied: py4j==0.10.7 in /opt/conda/envs/Python-3.7-OpenCE/lib/python3.7/site-packages (from pyspark==2.4.5) (0.10.7)\n"
                }
            ],
            "source": "!pip install pyspark==2.4.5"
        },
        {
            "cell_type": "code",
            "execution_count": 4,
            "metadata": {},
            "outputs": [
                {
                    "name": "stdout",
                    "output_type": "stream",
                    "text": "/opt/conda/envs/Python-3.7-OpenCE/lib/python3.7/site-packages/secretstorage/dhcrypto.py:16: CryptographyDeprecationWarning: int_from_bytes is deprecated, use int.from_bytes instead\n  from cryptography.utils import int_from_bytes\n/opt/conda/envs/Python-3.7-OpenCE/lib/python3.7/site-packages/secretstorage/util.py:25: CryptographyDeprecationWarning: int_from_bytes is deprecated, use int.from_bytes instead\n  from cryptography.utils import int_from_bytes\nRequirement already satisfied: systemml in /opt/conda/envs/Python-3.7-OpenCE/lib/python3.7/site-packages (1.2.0)\nRequirement already satisfied: scikit-learn in /opt/conda/envs/Python-3.7-OpenCE/lib/python3.7/site-packages (from systemml) (0.23.2)\nRequirement already satisfied: numpy>=1.8.2 in /opt/conda/envs/Python-3.7-OpenCE/lib/python3.7/site-packages (from systemml) (1.19.2)\nRequirement already satisfied: Pillow>=2.0.0 in /opt/conda/envs/Python-3.7-OpenCE/lib/python3.7/site-packages (from systemml) (8.4.0)\nRequirement already satisfied: scipy>=0.15.1 in /opt/conda/envs/Python-3.7-OpenCE/lib/python3.7/site-packages (from systemml) (1.4.1)\nRequirement already satisfied: pandas in /opt/conda/envs/Python-3.7-OpenCE/lib/python3.7/site-packages (from systemml) (1.0.5)\nRequirement already satisfied: joblib>=0.11 in /opt/conda/envs/Python-3.7-OpenCE/lib/python3.7/site-packages (from scikit-learn->systemml) (0.17.0)\nRequirement already satisfied: threadpoolctl>=2.0.0 in /opt/conda/envs/Python-3.7-OpenCE/lib/python3.7/site-packages (from scikit-learn->systemml) (2.1.0)\nRequirement already satisfied: python-dateutil>=2.6.1 in /opt/conda/envs/Python-3.7-OpenCE/lib/python3.7/site-packages (from pandas->systemml) (2.8.1)\nRequirement already satisfied: pytz>=2017.2 in /opt/conda/envs/Python-3.7-OpenCE/lib/python3.7/site-packages (from pandas->systemml) (2020.1)\nRequirement already satisfied: six>=1.5 in /opt/conda/envs/Python-3.7-OpenCE/lib/python3.7/site-packages (from python-dateutil>=2.6.1->pandas->systemml) (1.15.0)\n"
                }
            ],
            "source": "!pip install systemml"
        },
        {
            "cell_type": "code",
            "execution_count": 5,
            "metadata": {
                "scrolled": true
            },
            "outputs": [
                {
                    "name": "stderr",
                    "output_type": "stream",
                    "text": "22/02/07 12:48:09 WARN NativeCodeLoader: Unable to load native-hadoop library for your platform... using builtin-java classes where applicable\nUsing Spark's default log4j profile: org/apache/spark/log4j-defaults.properties\nSetting default log level to \"WARN\".\nTo adjust logging level use sc.setLogLevel(newLevel). For SparkR, use setLogLevel(newLevel).\n"
                }
            ],
            "source": "from pyspark import SparkContext, SparkConf\nfrom pyspark.sql import SQLContext, SparkSession\nfrom pyspark.sql.types import StructType, StructField, DoubleType, IntegerType, StringType\nsc = SparkContext.getOrCreate(SparkConf().setMaster(\"local[*]\"))\nfrom pyspark.sql import SparkSession\nspark = SparkSession \\\n    .builder \\\n    .getOrCreate()"
        },
        {
            "cell_type": "code",
            "execution_count": 9,
            "metadata": {},
            "outputs": [
                {
                    "name": "stdout",
                    "output_type": "stream",
                    "text": "wsuser\r\n"
                }
            ],
            "source": "!whoami"
        },
        {
            "cell_type": "code",
            "execution_count": 6,
            "metadata": {},
            "outputs": [],
            "source": "!mkdir -p /home/wsuser/work/systemml"
        },
        {
            "cell_type": "code",
            "execution_count": 7,
            "metadata": {},
            "outputs": [
                {
                    "name": "stdout",
                    "output_type": "stream",
                    "text": "\nWelcome to Apache SystemML!\nVersion 1.2.0\n1.2.0\n"
                }
            ],
            "source": "from systemml import MLContext, dml\nimport numpy as np\nimport time\nml = MLContext(spark)\nml.setConfigProperty(\"sysml.localtmpdir\", \"mkdir /home/dsxuser/work/systemml\")\nprint(ml.version())\n    \nif not ml.version() == '1.2.0':\n    raise ValueError('please upgrade to SystemML 1.2.0, or restart your Kernel (Kernel->Restart & Clear Output)')"
        },
        {
            "cell_type": "markdown",
            "metadata": {},
            "source": "Congratulations, if you see version 1.2.0, please continue with the notebook..."
        },
        {
            "cell_type": "markdown",
            "metadata": {},
            "source": "We use an MLContext to interface with Apache SystemML. Note that we passed a SparkSession object as parameter so SystemML now knows how to talk to the Apache Spark cluster"
        },
        {
            "cell_type": "markdown",
            "metadata": {},
            "source": "Now we create some large random matrices to have numpy and SystemML crunch on it"
        },
        {
            "cell_type": "code",
            "execution_count": 8,
            "metadata": {},
            "outputs": [],
            "source": "u = np.random.rand(1000,10000)\ns = np.random.rand(10000,1000)\nw = np.random.rand(1000,1000)"
        },
        {
            "cell_type": "markdown",
            "metadata": {},
            "source": "Now we implement a short one-liner to define a very simple linear algebra operation\n\nIn case you are unfamiliar with matrxi-matrix multiplication: https://en.wikipedia.org/wiki/Matrix_multiplication\n\nsum(U' * (W . (U * S)))\n\n\n| Legend        |            |   \n| ------------- |-------------| \n| '      | transpose of a matrix | \n| * | matrix-matrix multiplication      |  \n| . | scalar multiplication      |   \n\n"
        },
        {
            "cell_type": "code",
            "execution_count": 9,
            "metadata": {},
            "outputs": [
                {
                    "name": "stdout",
                    "output_type": "stream",
                    "text": "1.3304705619812012\n"
                }
            ],
            "source": "start = time.time()\nres = np.sum(u.T.dot(w * u.dot(s)))\nprint (time.time()-start)"
        },
        {
            "cell_type": "markdown",
            "metadata": {},
            "source": "As you can see this executes perfectly fine. Note that this is even a very efficient execution because numpy uses a C/C++ backend which is known for it's performance. But what happens if U, S or W get such big that the available main memory cannot cope with it? Let's give it a try:"
        },
        {
            "cell_type": "code",
            "execution_count": 10,
            "metadata": {},
            "outputs": [],
            "source": "#u = np.random.rand(10000,100000)\n#s = np.random.rand(100000,10000)\n#w = np.random.rand(10000,10000)"
        },
        {
            "cell_type": "markdown",
            "metadata": {},
            "source": "After a short while you should see a memory error. This is because the operating system process was not able to allocate enough memory for storing the numpy array on the heap. Now it's time to re-implement the very same operations as DML in SystemML, and this is your task. Just replace all ###your_code_goes_here sections with proper code, please consider the following table which contains all DML syntax you need:\n\n| Syntax        |            |   \n| ------------- |-------------| \n| t(M)      | transpose of a matrix, where M is the matrix | \n| %*% | matrix-matrix multiplication      |  \n| * | scalar multiplication      |   \n\n## Task"
        },
        {
            "cell_type": "markdown",
            "metadata": {},
            "source": "In order to show you the advantage of SystemML over numpy we've blown up the sizes of the matrices. Unfortunately, on a 1-2 worker Spark cluster it takes quite some time to complete. Therefore we've stripped down the example to smaller matrices below, but we've kept the code, just in case you are curious to check it out. But you might want to use some more workers which you easily can configure in the environment settings of the project within Watson Studio. Just be aware that you're currently limited to free 50 capacity unit hours per month wich are consumed by the additional workers."
        },
        {
            "cell_type": "code",
            "execution_count": 24,
            "metadata": {},
            "outputs": [],
            "source": "script = \"\"\"\nU = rand(rows=1000,cols=100000)\nS = rand(rows=100000,cols=1000)\nW = rand(rows=1000,cols=1000)\nres = sum(t(U) %*% (W * (U%*%S)))\n\"\"\""
        },
        {
            "cell_type": "markdown",
            "metadata": {},
            "source": "To get consistent results we switch from a random matrix initialization to something deterministic"
        },
        {
            "cell_type": "code",
            "execution_count": null,
            "metadata": {},
            "outputs": [
                {
                    "name": "stdout",
                    "output_type": "stream",
                    "text": "[Stage 5:=>               (6 + 1) / 100][Stage 8:>                  (0 + 0) / 5]\n[Stage 5:=>               (7 + 1) / 100][Stage 8:>                  (0 + 0) / 5]\n"
                }
            ],
            "source": "prog = dml(script).output('res')\nres = ml.execute(prog).get('res')\nprint(res)"
        },
        {
            "cell_type": "markdown",
            "metadata": {},
            "source": "If everything runs fine you should get *6252492444241.075* as result (or something in that bullpark). Feel free to submit your DML script to the grader now!\n\n### Submission"
        },
        {
            "cell_type": "code",
            "execution_count": 19,
            "metadata": {},
            "outputs": [
                {
                    "name": "stdout",
                    "output_type": "stream",
                    "text": "--2022-02-07 13:01:02--  https://raw.githubusercontent.com/romeokienzler/developerWorks/master/coursera/ai/rklib.py\nResolving raw.githubusercontent.com (raw.githubusercontent.com)... 185.199.109.133, 185.199.111.133, 185.199.110.133, ...\nConnecting to raw.githubusercontent.com (raw.githubusercontent.com)|185.199.109.133|:443... connected.\nHTTP request sent, awaiting response... 200 OK\nLength: 2289 (2.2K) [text/plain]\nSaving to: \u2018rklib.py\u2019\n\nrklib.py            100%[===================>]   2.24K  --.-KB/s    in 0s      \n\n2022-02-07 13:01:02 (25.2 MB/s) - \u2018rklib.py\u2019 saved [2289/2289]\n\n"
                }
            ],
            "source": "!rm -f rklib.py\n!wget https://raw.githubusercontent.com/romeokienzler/developerWorks/master/coursera/ai/rklib.py"
        },
        {
            "cell_type": "code",
            "execution_count": 20,
            "metadata": {},
            "outputs": [],
            "source": "from rklib import submit\nkey = \"esRk7vn-Eeej-BLTuYzd0g\"\n\n\nemail = 'jaana_jurvansuu@yahoo.com'"
        },
        {
            "cell_type": "code",
            "execution_count": 21,
            "metadata": {
                "scrolled": true
            },
            "outputs": [
                {
                    "name": "stdout",
                    "output_type": "stream",
                    "text": "Submission successful, please check on the coursera grader page for the status\n-------------------------\n{\"elements\":[{\"itemId\":\"P1p3F\",\"id\":\"tE4j0qhMEeecqgpT6QjMdA~P1p3F~Bqja-YgWEeydZgoUGgDj_Q\",\"courseId\":\"tE4j0qhMEeecqgpT6QjMdA\"}],\"paging\":{},\"linked\":{}}\n-------------------------\n"
                }
            ],
            "source": "part = \"fUxc8\"\ntoken = \"VW4f8tKfJkhxPuMn\" \nsubmit(email, token, key, part, [part], script)"
        }
    ],
    "metadata": {
        "kernelspec": {
            "display_name": "Python 3.7",
            "language": "python",
            "name": "python3"
        },
        "language_info": {
            "codemirror_mode": {
                "name": "ipython",
                "version": 3
            },
            "file_extension": ".py",
            "mimetype": "text/x-python",
            "name": "python",
            "nbconvert_exporter": "python",
            "pygments_lexer": "ipython3",
            "version": "3.7.11"
        }
    },
    "nbformat": 4,
    "nbformat_minor": 1
}