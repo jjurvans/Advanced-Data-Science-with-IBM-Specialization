{
 "cells": [
  {
   "cell_type": "markdown",
   "metadata": {},
   "source": [
    "The SARS-CoV-2 sequence data and info werendowloaded from the NCBI virus website https://www.ncbi.nlm.nih.gov/labs/virus/ with selection : SARS-CoV-2, Japan, complete nucleotides, Collection date 15.02.2020-15.02.2022.\n",
    "\n",
    "JapanSARSCoV2.fa\n",
    "2YJapanData.csv"
   ]
  },
  {
   "cell_type": "markdown",
   "metadata": {},
   "source": [
    "the sequences were aligned with muscle aligner:\n",
    "\n",
    "muscle -in JapanSARSCoV2.fa -out JapanSARSCoV2.afa -maxiters 1 -diags"
   ]
  },
  {
   "cell_type": "markdown",
   "metadata": {},
   "source": [
    "The aligned sequences were formatted with unix"
   ]
  },
  {
   "cell_type": "code",
   "execution_count": null,
   "metadata": {},
   "outputs": [],
   "source": [
    "#Make fasta header list\n",
    "grep -e \">\" JapanSARSCoV2.afa | sed \"s/\\.1//g\" fasta | sed \"s/>//g\" > 2Yfastahead"
   ]
  },
  {
   "cell_type": "code",
   "execution_count": null,
   "metadata": {},
   "outputs": [],
   "source": [
    "#Replace nucleotides with numbers 1-4 and uncertain and lacking nucleotides with 0\n",
    "sed -E \"s/^>.*/@/g\" JapanSARSCoV2.afa | sed \"s/[-NRYSWKMBDHV]/,0/g\" | sed \"s/A/,1/g\" | sed \"s/T/,2/g\" |sed \"s/C/,3/g\" | sed \"s/G/,4/g\" | tr -d \"\\n\" | sed \"s/@,/\\n/g\" > 2YJapanfeat.cvs"
   ]
  },
  {
   "cell_type": "markdown",
   "metadata": {},
   "source": [
    "The COVID19 death and cases data in Japan was copied from Worldometer Japan webpage: www.worldometers.info/coronavirus/country/japan/"
   ]
  },
  {
   "cell_type": "code",
   "execution_count": null,
   "metadata": {},
   "outputs": [],
   "source": [
    "import pandas as pd\n",
    "import datetime\n",
    "\n",
    "#The worldometer data was sorted and the time was changed from day to month\n",
    "worldometer = pd.DataFrame(data = {'date': dates, 'cases': cases, 'deaths': deaths})\n",
    "worldometer['date'] = pd.to_datetime(worldometer['date'], infer_datetime_format=True)\n",
    "worldometer = worldometer.sort_values('date')\n",
    "worldometer['date'] = worldometer['date'].dt.strftime('%m-%Y')\n",
    "\n",
    "#NCBI info data was sorted and changed from day to month\n",
    "df = pd.read_csv(\"2YJapanData.csv\")\n",
    "df.rename(columns={'Collection_Date':'date', 'Geo_Location': 'locat', 'Accession': 'acc', 'Pangolin': \"pango\"}, inplace=True)\n",
    "df['date'] = pd.to_datetime(df.date, infer_datetime_format=True)\n",
    "df = df.sort_values('date')\n",
    "df['date'] = df['date'].dt.strftime('%m-%Y')\n",
    "\n",
    "#The worldometer death and cases were summed for each month merged with NCBI data \n",
    "df3 = worldometer.groupby('date').sum()\n",
    "df_merged = pd.merge(df,df3, on='date')\n",
    "print(df_merged)\n",
    "print(df_merged.shape)\n",
    "df_merged.to_csv('2YJapanCovid.csv')"
   ]
  }
 ],
 "metadata": {
  "language_info": {
   "name": "python"
  },
  "orig_nbformat": 4
 },
 "nbformat": 4,
 "nbformat_minor": 2
}
