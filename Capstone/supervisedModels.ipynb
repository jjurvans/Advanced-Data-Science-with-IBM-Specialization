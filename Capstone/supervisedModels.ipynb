{
 "cells": [
  {
   "cell_type": "code",
   "execution_count": 2,
   "metadata": {},
   "outputs": [],
   "source": [
    "import pandas as pd\n",
    "import numpy as np\n",
    "import matplotlib.pyplot as plt\n",
    "from sklearn import preprocessing\n",
    "from sklearn.model_selection import train_test_split\n",
    "from sklearn.model_selection import GridSearchCV\n",
    "from sklearn.svm import SVC\n",
    "from sklearn.tree import DecisionTreeClassifier\n",
    "from sklearn.neighbors import KNeighborsClassifier                                                                                                          "
   ]
  },
  {
   "cell_type": "code",
   "execution_count": 3,
   "metadata": {},
   "outputs": [
    {
     "name": "stdout",
     "output_type": "stream",
     "text": [
      "(3392, 14027)\n",
      "(3392, 6)\n",
      "           acc\n",
      "0     BS001453\n",
      "1     BS001465\n",
      "2     LC633760\n",
      "3     BS002199\n",
      "4     BS002450\n",
      "...        ...\n",
      "3387  BS003359\n",
      "3388  BS003610\n",
      "3389  BS003539\n",
      "3390  BS003328\n",
      "3391  BS003548\n",
      "\n",
      "[3392 rows x 1 columns]\n",
      "   1  2  3  4  5  6  7  8  9  10  ...  29910  29911  29912  29913  29914  \\\n",
      "0  0  0  0  1  1  4  4  2  2   2  ...      0      0      0      0      0   \n",
      "1  0  0  0  0  0  0  0  0  0   0  ...      0      0      0      0      0   \n",
      "2  0  0  0  1  1  4  4  2  2   2  ...      1      1      1      1      1   \n",
      "3  0  0  0  0  0  0  0  0  0   0  ...      0      0      0      0      0   \n",
      "4  0  0  0  1  1  4  4  2  2   2  ...      0      0      0      0      0   \n",
      "\n",
      "   29915  29916  29917  29918       acc  \n",
      "0      0      0      0      0  BS001453  \n",
      "1      0      0      0      0  BS001465  \n",
      "2      1      1      1      1  LC633760  \n",
      "3      0      0      0      0  BS002199  \n",
      "4      0      0      0      0  BS002450  \n",
      "\n",
      "[5 rows x 14028 columns]\n",
      "(3389, 14028)\n"
     ]
    }
   ],
   "source": [
    "#upload the original nucleotide features data \n",
    "d = pd.read_csv('2YJapanfeat.csv', index_col=[0], header=None)\n",
    "df = d.loc[:, (d != d.iloc[0]).any()]\n",
    "print(df.shape)\n",
    "\n",
    "# upload NBCI and worldometer features and accession fastaheads\n",
    "dfY = pd.read_csv('2YJapanCovid.csv', index_col=[0])\n",
    "print(dfY.shape)\n",
    "acc = pd.read_csv('2Yfastahead')\n",
    "print(acc)\n",
    "\n",
    "#add fastaheads to nucleotide feature dataframe\n",
    "df = df.reset_index(drop=True)\n",
    "stack = pd.concat([df, acc], axis=1)\n",
    "print(stack.head())\n",
    "\n",
    "#Merge the NBCI and worldometer data on feature data by 'acc'\n",
    "df_merged = pd.merge(dfY, stack, on='acc')\n",
    "\n",
    "#add column deaths/cases\n",
    "df_merged['DdivC'] = (df_merged['deaths']/df_merged['cases'])*10000\n",
    "df_merged['DdivC'] = df_merged['DdivC'].astype(int)\n",
    "\n",
    "#remove labels that you do not need in analysis\n",
    "df_merged.drop(columns=['acc', 'pango', 'locat', 'date', 'cases', 'deaths'], inplace=True)\n",
    "print(df_merged.shape)"
   ]
  },
  {
   "cell_type": "code",
   "execution_count": 4,
   "metadata": {},
   "outputs": [],
   "source": [
    "#Choose features (x) and label (y), make arrays of them and standard scale x\n",
    "xd=df_merged.iloc[:,0:14027].values\n",
    "yd=df_merged.iloc[:,14027].values\n",
    "\n",
    "xd = np.asarray(xd)\n",
    "transform = preprocessing.StandardScaler()\n",
    "xd = transform.fit(xd).transform(xd)\n",
    "\n",
    "yd = np.asarray(yd)"
   ]
  },
  {
   "cell_type": "code",
   "execution_count": 5,
   "metadata": {},
   "outputs": [],
   "source": [
    "#train and test sets\n",
    "Xd_train, Xd_test, yd_train, yd_test = train_test_split(xd, yd, test_size=0.2, random_state=2)"
   ]
  },
  {
   "cell_type": "code",
   "execution_count": 6,
   "metadata": {},
   "outputs": [
    {
     "name": "stderr",
     "output_type": "stream",
     "text": [
      "/opt/anaconda3/lib/python3.8/site-packages/sklearn/model_selection/_split.py:666: UserWarning: The least populated class in y has only 2 members, which is less than n_splits=5.\n",
      "  warnings.warn((\"The least populated class in y has only %d\"\n"
     ]
    },
    {
     "name": "stdout",
     "output_type": "stream",
     "text": [
      "{'C': 1, 'gamma': 'scale', 'kernel': 'linear'}\n",
      "Death rate: accuracy SVC: 0.6890426970568049\n",
      "Death rate score: 0.6932153392330384\n"
     ]
    }
   ],
   "source": [
    "#perform C-support vector classification with best hyperparameters\n",
    "parametersSVC = {'kernel':('linear', 'rbf','poly','sigmoid'), 'C': [1, 2, 3],'gamma':('scale', 'auto')}\n",
    "svm = SVC()\n",
    "svmd_cv=GridSearchCV(svm, parametersSVC)\n",
    "svmd_cv.fit(Xd_train,yd_train)\n",
    "\n",
    "print(svmd_cv.best_params_)\n",
    "print(\"Death rate: accuracy SVC:\",svmd_cv.best_score_)\n",
    "\n",
    "svmD = SVC(**svmd_cv.best_params_).fit(Xd_train,yd_train)\n",
    "print(\"Death rate score:\",svmD.score(Xd_test,yd_test))"
   ]
  },
  {
   "cell_type": "code",
   "execution_count": 7,
   "metadata": {},
   "outputs": [
    {
     "name": "stderr",
     "output_type": "stream",
     "text": [
      "/opt/anaconda3/lib/python3.8/site-packages/sklearn/model_selection/_split.py:666: UserWarning: The least populated class in y has only 2 members, which is less than n_splits=5.\n",
      "  warnings.warn((\"The least populated class in y has only %d\"\n"
     ]
    },
    {
     "name": "stdout",
     "output_type": "stream",
     "text": [
      "{'criterion': 'gini', 'max_depth': 18, 'max_features': 'auto', 'min_samples_leaf': 1, 'min_samples_split': 2, 'splitter': 'best'}\n",
      "Death rate accuracy TREE: 0.6370349228354162\n",
      "Date score: 0.6548672566371682\n"
     ]
    }
   ],
   "source": [
    "#Perform Decision tree classification with best hyperparameters\n",
    "parametersTREE = {'criterion': ('gini', 'entropy'), 'splitter': ('best', 'random'), 'max_depth': [2*n for n in range(1,10)], 'max_features': ('auto', 'sqrt'),'min_samples_leaf':[1, 2, 4],'min_samples_split': [2, 5, 10]}\n",
    "\n",
    "tree = DecisionTreeClassifier()\n",
    "treed_cv=GridSearchCV(tree, parametersTREE)\n",
    "treed_cv.fit(Xd_train,yd_train)\n",
    "\n",
    "print(treed_cv.best_params_)\n",
    "print(\"Death rate accuracy TREE:\",treed_cv.best_score_)\n",
    "treeD = DecisionTreeClassifier(**treed_cv.best_params_).fit(Xd_train,yd_train)\n",
    "print(\"Date score:\",treeD.score(Xd_test,yd_test))"
   ]
  },
  {
   "cell_type": "code",
   "execution_count": 8,
   "metadata": {},
   "outputs": [
    {
     "name": "stderr",
     "output_type": "stream",
     "text": [
      "/opt/anaconda3/lib/python3.8/site-packages/sklearn/model_selection/_split.py:666: UserWarning: The least populated class in y has only 2 members, which is less than n_splits=5.\n",
      "  warnings.warn((\"The least populated class in y has only %d\"\n"
     ]
    },
    {
     "name": "stdout",
     "output_type": "stream",
     "text": [
      "Death rate: accuracy Kneighbors: 0.6820309473812971\n",
      "dates: {'algorithm': 'brute', 'n_neighbors': 6, 'p': 2, 'weights': 'distance'}\n",
      "Death score: 0.6932153392330384\n"
     ]
    }
   ],
   "source": [
    "#Perform KNeighbors classification with best hyperparameters\n",
    "parametersKN = {'n_neighbors': [6], 'weights': ('uniform', 'distance'),\n",
    "            'algorithm': ['ball_tree', 'kd_tree', 'brute'],\n",
    "            'p': [1,2]}\n",
    "KNN = KNeighborsClassifier()\n",
    "KNNd_cv=GridSearchCV(KNN, parametersKN)\n",
    "KNNd_cv.fit(Xd_train,yd_train)\n",
    "\n",
    "print(\"Death rate: accuracy Kneighbors:\",KNNd_cv.best_score_)\n",
    "print(\"dates:\", KNNd_cv.best_params_)\n",
    "KNND = KNeighborsClassifier(**KNNd_cv.best_params_).fit(Xd_train,yd_train)\n",
    "print(\"Death score:\", KNND.score(Xd_test,yd_test))"
   ]
  },
  {
   "cell_type": "code",
   "execution_count": 23,
   "metadata": {},
   "outputs": [
    {
     "name": "stdout",
     "output_type": "stream",
     "text": [
      "{'Models': ['C-support vector', 'Decision tree', 'KNeignors'], 'Accuracy': [0.6932153392330384, 0.6548672566371682, 0.6932153392330384]}\n"
     ]
    },
    {
     "data": {
      "image/png": "[encoded data removed]",
      "text/plain": [
       "<Figure size 432x288 with 1 Axes>"
      ]
     },
     "metadata": {
      "needs_background": "light"
     },
     "output_type": "display_data"
    }
   ],
   "source": [
    "#Compare the results between the tree models\n",
    "import matplotlib.pyplot as plt\n",
    "\n",
    "df_plot = {\"Models\": [\"C-support vector\", \"Decision tree\", \"KNeignors\"], \"Accuracy\": [svmD.score(Xd_test,yd_test), treeD.score(Xd_test,yd_test), KNND.score(Xd_test,yd_test)]}\n",
    "print (df_plot)\n",
    "plt.xlabel('Model')\n",
    "plt.ylabel('Accuracy')\n",
    "plt.bar(df_plot['Models'], df_plot['Accuracy'])\n",
    "plt.show()\n"
   ]
  }
 ],
 "metadata": {
  "interpreter": {
   "hash": "40d3a090f54c6569ab1632332b64b2c03c39dcf918b08424e98f38b5ae0af88f"
  },
  "kernelspec": {
   "display_name": "Python 3.8.8 ('base')",
   "language": "python",
   "name": "python3"
  },
  "language_info": {
   "codemirror_mode": {
    "name": "ipython",
    "version": 3
   },
   "file_extension": ".py",
   "mimetype": "text/x-python",
   "name": "python",
   "nbconvert_exporter": "python",
   "pygments_lexer": "ipython3",
   "version": "3.8.8"
  },
  "orig_nbformat": 4
 },
 "nbformat": 4,
 "nbformat_minor": 2
}
