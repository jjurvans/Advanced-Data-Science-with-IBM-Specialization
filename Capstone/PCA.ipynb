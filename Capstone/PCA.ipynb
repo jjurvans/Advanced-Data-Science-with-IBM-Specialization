{
 "cells": [
  {
   "cell_type": "code",
   "execution_count": 1,
   "metadata": {},
   "outputs": [],
   "source": [
    "import pandas as pd\n",
    "import matplotlib.pyplot as plt\n",
    "from sklearn.preprocessing import StandardScaler\n",
    "from sklearn.decomposition import PCA\n",
    "import numpy as np"
   ]
  },
  {
   "cell_type": "code",
   "execution_count": 2,
   "metadata": {},
   "outputs": [
    {
     "name": "stdout",
     "output_type": "stream",
     "text": [
      "(3391, 29919)\n"
     ]
    }
   ],
   "source": [
    "#Read feature data frame\n",
    "df = pd.read_csv('2yJapanfeat.cvs')\n",
    "print(df.shape)"
   ]
  },
  {
   "cell_type": "code",
   "execution_count": 3,
   "metadata": {},
   "outputs": [
    {
     "name": "stdout",
     "output_type": "stream",
     "text": [
      "(3391, 14027)\n"
     ]
    }
   ],
   "source": [
    "#remove non-variable values\n",
    "dfr = df.loc[:, (df != df.iloc[0]).any()]\n",
    "print(dfr.shape)"
   ]
  },
  {
   "cell_type": "code",
   "execution_count": 4,
   "metadata": {},
   "outputs": [],
   "source": [
    "#PCA analysis\n",
    "n = 200\n",
    "x = StandardScaler().fit_transform(dfr)\n",
    "pca = PCA(n_components=n)\n",
    "PCAfeatures = pca.fit(x)"
   ]
  },
  {
   "cell_type": "code",
   "execution_count": 5,
   "metadata": {},
   "outputs": [
    {
     "name": "stdout",
     "output_type": "stream",
     "text": [
      "[2.32153460e-01 8.49511433e-02 7.17312334e-02 3.86447391e-02\n",
      " 3.47078529e-02 3.34000387e-02 3.25071811e-02 2.28975459e-02\n",
      " 1.86624677e-02 1.83348103e-02 1.72449975e-02 1.64179115e-02\n",
      " 1.54687608e-02 1.47756045e-02 1.34371817e-02 1.18443925e-02\n",
      " 1.17770151e-02 1.16258991e-02 1.10688951e-02 1.05532060e-02\n",
      " 1.01375010e-02 9.94862275e-03 8.97538476e-03 8.55196815e-03\n",
      " 7.97369318e-03 6.49057335e-03 6.41701461e-03 6.02048039e-03\n",
      " 5.52970061e-03 5.41096814e-03 5.20892953e-03 4.59742289e-03\n",
      " 3.66583325e-03 3.36956582e-03 3.01563327e-03 2.62010309e-03\n",
      " 2.57573469e-03 2.18212865e-03 2.11111335e-03 1.99155496e-03\n",
      " 1.89544879e-03 1.50069990e-03 1.44842358e-03 1.41241613e-03\n",
      " 1.33848994e-03 1.20531223e-03 1.17355303e-03 1.14217969e-03\n",
      " 1.13906516e-03 1.12371543e-03 1.12016191e-03 1.08673116e-03\n",
      " 1.05440197e-03 1.01667665e-03 9.66742836e-04 9.25572448e-04\n",
      " 8.68760400e-04 8.26056568e-04 8.13495810e-04 8.05439056e-04\n",
      " 7.29964702e-04 7.22650673e-04 7.17963287e-04 6.77569261e-04\n",
      " 6.60496673e-04 6.39974358e-04 6.36424839e-04 6.30520942e-04\n",
      " 6.24567721e-04 6.03676442e-04 5.95379189e-04 5.86917571e-04\n",
      " 5.40777228e-04 5.20832603e-04 5.16605022e-04 5.06219279e-04\n",
      " 4.98916808e-04 4.78750938e-04 4.71616574e-04 4.67168964e-04\n",
      " 4.65044436e-04 4.64740610e-04 4.58991015e-04 4.54701999e-04\n",
      " 4.51402470e-04 4.48579197e-04 4.47283989e-04 4.46822517e-04\n",
      " 4.44175930e-04 4.41849064e-04 4.37736095e-04 4.30055584e-04\n",
      " 4.28568752e-04 4.23573630e-04 4.22090208e-04 4.13675537e-04\n",
      " 4.09148892e-04 4.07228318e-04 4.01329856e-04 3.93092153e-04\n",
      " 3.91742563e-04 3.85424625e-04 3.80747953e-04 3.79801418e-04\n",
      " 3.77180935e-04 3.75306911e-04 3.71927254e-04 3.69501479e-04\n",
      " 3.66745422e-04 3.65176188e-04 3.64553372e-04 3.60481065e-04\n",
      " 3.57075472e-04 3.48717654e-04 3.47835783e-04 3.46983805e-04\n",
      " 3.46464187e-04 3.40677543e-04 3.39876179e-04 3.38768940e-04\n",
      " 3.33726342e-04 3.33321364e-04 3.28833309e-04 3.27690595e-04\n",
      " 3.27332029e-04 3.26071603e-04 3.25157699e-04 3.22116118e-04\n",
      " 3.21593180e-04 3.19281432e-04 3.16396185e-04 3.15017819e-04\n",
      " 3.10513186e-04 3.08146956e-04 3.06543465e-04 3.05662861e-04\n",
      " 3.02133425e-04 3.01141799e-04 2.99829041e-04 2.98332245e-04\n",
      " 2.97295269e-04 2.95983732e-04 2.95697962e-04 2.93389202e-04\n",
      " 2.92448277e-04 2.90634488e-04 2.88081333e-04 2.85911051e-04\n",
      " 2.85587385e-04 2.83317000e-04 2.82585370e-04 2.82030804e-04\n",
      " 2.81148020e-04 2.79749283e-04 2.78044841e-04 2.76932655e-04\n",
      " 2.74752540e-04 2.73138745e-04 2.70621132e-04 2.69405704e-04\n",
      " 2.67677974e-04 2.66667667e-04 2.65246178e-04 2.64528339e-04\n",
      " 2.63925376e-04 2.63103584e-04 2.62546237e-04 2.60756516e-04\n",
      " 2.58586487e-04 2.58228147e-04 2.56200127e-04 2.55546305e-04\n",
      " 2.54343561e-04 2.53341927e-04 2.52234802e-04 2.50923307e-04\n",
      " 2.49321604e-04 2.47525835e-04 2.47243869e-04 2.46208797e-04\n",
      " 2.43945218e-04 2.42985167e-04 2.41503531e-04 2.41125071e-04\n",
      " 2.40451759e-04 2.39131598e-04 2.38248951e-04 2.37132398e-04\n",
      " 2.35836956e-04 2.34210558e-04 2.33682134e-04 2.33253404e-04\n",
      " 2.31237409e-04 2.30384840e-04 2.29126933e-04 2.28056713e-04\n",
      " 2.27045819e-04 2.25087486e-04 2.24137928e-04 2.22213387e-04]\n",
      "Total Variance Explained by 200 components: 90.14622264191036\n"
     ]
    }
   ],
   "source": [
    "#PCA results\n",
    "var = np.cumsum(np.round(pca.explained_variance_ratio_, decimals=3)*100)\n",
    "print(pca.explained_variance_ratio_)\n",
    "print('Total Variance Explained by', n, 'components:', sum(list(pca.explained_variance_ratio_))*100)"
   ]
  },
  {
   "cell_type": "code",
   "execution_count": 6,
   "metadata": {},
   "outputs": [
    {
     "data": {
      "image/png": "[encoded data removed]",
      "text/plain": [
       "<Figure size 432x288 with 1 Axes>"
      ]
     },
     "metadata": {
      "needs_background": "light"
     },
     "output_type": "display_data"
    }
   ],
   "source": [
    "#Plot the principal components and variance they explain\n",
    "plt.ylabel('% of variance explained')\n",
    "plt.xlabel('Principal components')\n",
    "plt.title('PCA Analysis')\n",
    "plt.ylim(18,100.5)\n",
    "plt.style.context('seaborn-whitegrid')\n",
    "plt.plot(var)\n",
    "plt.show()"
   ]
  },
  {
   "cell_type": "code",
   "execution_count": 7,
   "metadata": {},
   "outputs": [
    {
     "name": "stdout",
     "output_type": "stream",
     "text": [
      "(3391, 200)\n"
     ]
    }
   ],
   "source": [
    "#Save the selected PCA features into a cvs\n",
    "PCAfeatures = pca.fit_transform(x)\n",
    "dfPCA = pd.DataFrame(PCAfeatures)\n",
    "dfPCA.to_csv('2YPCAfeatures.csv')\n",
    "print(dfPCA.shape)"
   ]
  }
 ],
 "metadata": {
  "interpreter": {
   "hash": "40d3a090f54c6569ab1632332b64b2c03c39dcf918b08424e98f38b5ae0af88f"
  },
  "kernelspec": {
   "display_name": "Python 3.8.8 ('base')",
   "language": "python",
   "name": "python3"
  },
  "language_info": {
   "codemirror_mode": {
    "name": "ipython",
    "version": 3
   },
   "file_extension": ".py",
   "mimetype": "text/x-python",
   "name": "python",
   "nbconvert_exporter": "python",
   "pygments_lexer": "ipython3",
   "version": "3.8.8"
  },
  "orig_nbformat": 4
 },
 "nbformat": 4,
 "nbformat_minor": 2
}
