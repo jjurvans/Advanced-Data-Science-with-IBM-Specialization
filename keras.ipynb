{
 "cells": [
  {
   "cell_type": "code",
   "execution_count": 1,
   "metadata": {},
   "outputs": [],
   "source": [
    "import matplotlib.pyplot as plt\n",
    "import numpy as np\n",
    "import pandas as pd\n",
    "from sklearn.model_selection import train_test_split\n",
    "from sklearn.preprocessing import MinMaxScaler\n",
    "from keras.models import Sequential\n",
    "from keras.layers import Dense, Dropout\n",
    "from keras.wrappers.scikit_learn import KerasRegressor"
   ]
  },
  {
   "cell_type": "code",
   "execution_count": 2,
   "metadata": {},
   "outputs": [
    {
     "name": "stdout",
     "output_type": "stream",
     "text": [
      "(3392, 6)\n"
     ]
    }
   ],
   "source": [
    "#upload the original nucleotide data \n",
    "d = pd.read_csv('2YJapanfeat.cvs', index_col=[0], header=None)\n",
    "df = d.loc[:, (d != d.iloc[0]).any()]\n",
    "\n",
    "# upload NBCI and worldometer features and fastahead\n",
    "dfY = pd.read_csv('2YJapanCovid.csv', index_col=[0])\n",
    "print(dfY.shape)\n",
    "acc = pd.read_csv('2Yfastahead')\n",
    "\n",
    "#add fastaheads to the feature dataframe\n",
    "df = df.reset_index(drop=True)\n",
    "stack = pd.concat([df, acc], axis=1)"
   ]
  },
  {
   "cell_type": "code",
   "execution_count": 3,
   "metadata": {},
   "outputs": [],
   "source": [
    "#Merge the NBCI and worldometer data on t-SNE dimensions by sequence name, that is, by 'acc'\n",
    "df_merged = pd.merge(dfY, stack, on='acc')\n",
    "\n",
    "#add column deaths/cases\n",
    "df_merged['death_rate'] = (df_merged['deaths']/df_merged['cases'])\n",
    "\n",
    "#drop columns you dont need and choose features and target\n",
    "df_merged.drop(columns=['acc', 'pango', 'locat', 'date', 'cases', 'deaths'], inplace=True)\n",
    "\n",
    "x=df_merged.iloc[:,0:14027].values\n",
    "y=df_merged.iloc[:,14027].values"
   ]
  },
  {
   "cell_type": "code",
   "execution_count": 4,
   "metadata": {},
   "outputs": [
    {
     "name": "stdout",
     "output_type": "stream",
     "text": [
      "(2541, 14027)\n",
      "(848, 14027)\n"
     ]
    }
   ],
   "source": [
    "#reshape, and transform\n",
    "y=np.reshape(y, (-1,1))\n",
    "scaler_x = MinMaxScaler()\n",
    "scaler_y = MinMaxScaler()\n",
    "scaler_x.fit(x)\n",
    "xscale=scaler_x.transform(x)\n",
    "scaler_y.fit(y)\n",
    "yscale=scaler_y.transform(y)\n",
    "\n",
    "#split data to training and testing (75% training and 25% testing)\n",
    "X_train, X_test, y_train, y_test = train_test_split(xscale, yscale)\n",
    "print(X_train.shape)\n",
    "print(X_test.shape)"
   ]
  },
  {
   "cell_type": "code",
   "execution_count": 5,
   "metadata": {},
   "outputs": [
    {
     "name": "stdout",
     "output_type": "stream",
     "text": [
      "Model: \"sequential\"\n",
      "_________________________________________________________________\n",
      " Layer (type)                Output Shape              Param #   \n",
      "=================================================================\n",
      " dense (Dense)               (None, 7014)              98392392  \n",
      "                                                                 \n",
      " dropout (Dropout)           (None, 7014)              0         \n",
      "                                                                 \n",
      " dense_1 (Dense)             (None, 3506)              24594590  \n",
      "                                                                 \n",
      " dropout_1 (Dropout)         (None, 3506)              0         \n",
      "                                                                 \n",
      " dense_2 (Dense)             (None, 1754)              6151278   \n",
      "                                                                 \n",
      " dropout_2 (Dropout)         (None, 1754)              0         \n",
      "                                                                 \n",
      " dense_3 (Dense)             (None, 430)               754650    \n",
      "                                                                 \n",
      " dense_4 (Dense)             (None, 106)               45686     \n",
      "                                                                 \n",
      " dense_5 (Dense)             (None, 1)                 107       \n",
      "                                                                 \n",
      "=================================================================\n",
      "Total params: 129,938,703\n",
      "Trainable params: 129,938,703\n",
      "Non-trainable params: 0\n",
      "_________________________________________________________________\n"
     ]
    }
   ],
   "source": [
    "#model layears\n",
    "model = Sequential()\n",
    "model.add(Dense(7014, input_dim=14027, kernel_initializer='normal', activation='relu'))\n",
    "model.add(Dropout(0.2))\n",
    "model.add(Dense(3506, activation='relu'))\n",
    "model.add(Dropout(0.2))\n",
    "model.add(Dense(1754, activation='relu'))\n",
    "model.add(Dropout(0.2))\n",
    "model.add(Dense(430, activation='relu'))\n",
    "model.add(Dense(106, activation='relu'))\n",
    "model.add(Dense(1, activation='linear'))\n",
    "\n",
    "model.summary()"
   ]
  },
  {
   "cell_type": "code",
   "execution_count": 6,
   "metadata": {},
   "outputs": [
    {
     "name": "stdout",
     "output_type": "stream",
     "text": [
      "Epoch 1/100\n",
      "1/1 [==============================] - 23s 23s/step - loss: 7.6352 - mae: 2.2163 - val_loss: 1123425.5000 - val_mae: 1059.8345\n",
      "Epoch 2/100\n",
      "1/1 [==============================] - 12s 12s/step - loss: 1157431.2500 - mae: 1074.9646 - val_loss: 908.3261 - val_mae: 30.1364\n",
      "Epoch 3/100\n",
      "1/1 [==============================] - 13s 13s/step - loss: 1099.9900 - mae: 32.9720 - val_loss: 16.5650 - val_mae: 4.0676\n",
      "Epoch 4/100\n",
      "1/1 [==============================] - 12s 12s/step - loss: 18.1154 - mae: 4.1165 - val_loss: 1.2367 - val_mae: 1.1040\n",
      "Epoch 5/100\n",
      "1/1 [==============================] - 15s 15s/step - loss: 5.7772 - mae: 2.0878 - val_loss: 32.7852 - val_mae: 5.7239\n",
      "Epoch 6/100\n",
      "1/1 [==============================] - 14s 14s/step - loss: 24.5675 - mae: 4.7109 - val_loss: 63.9035 - val_mae: 7.9921\n",
      "Epoch 7/100\n",
      "1/1 [==============================] - 13s 13s/step - loss: 92.1620 - mae: 9.4449 - val_loss: 31.9533 - val_mae: 5.6507\n",
      "Epoch 8/100\n",
      "1/1 [==============================] - 14s 14s/step - loss: 55.3364 - mae: 7.2480 - val_loss: 0.5963 - val_mae: 0.7617\n",
      "Epoch 9/100\n",
      "1/1 [==============================] - 16s 16s/step - loss: 3.2402 - mae: 1.4459 - val_loss: 65.4777 - val_mae: 8.0903\n",
      "Epoch 10/100\n",
      "1/1 [==============================] - 15s 15s/step - loss: 53.0301 - mae: 6.9727 - val_loss: 1.4398 - val_mae: 1.1930\n",
      "Epoch 11/100\n",
      "1/1 [==============================] - 17s 17s/step - loss: 4.0933 - mae: 1.6209 - val_loss: 28.4825 - val_mae: 5.3348\n",
      "Epoch 12/100\n",
      "1/1 [==============================] - 14s 14s/step - loss: 35.9941 - mae: 5.6766 - val_loss: 15.3893 - val_mae: 3.9204\n",
      "Epoch 13/100\n",
      "1/1 [==============================] - 16s 16s/step - loss: 24.4492 - mae: 4.5508 - val_loss: 1.9248 - val_mae: 1.3814\n",
      "Epoch 14/100\n",
      "1/1 [==============================] - 16s 16s/step - loss: 4.5634 - mae: 1.7046 - val_loss: 28.1684 - val_mae: 5.3055\n",
      "Epoch 15/100\n",
      "1/1 [==============================] - 12s 12s/step - loss: 25.6458 - mae: 4.6363 - val_loss: 10.9448 - val_mae: 3.3056\n",
      "Epoch 16/100\n",
      "1/1 [==============================] - 12s 12s/step - loss: 12.5230 - mae: 3.0475 - val_loss: 1.3847 - val_mae: 1.1693\n",
      "Epoch 17/100\n",
      "1/1 [==============================] - 12s 12s/step - loss: 6.5510 - mae: 2.0513 - val_loss: 11.6969 - val_mae: 3.4172\n",
      "Epoch 18/100\n",
      "1/1 [==============================] - 13s 13s/step - loss: 20.3892 - mae: 3.9923 - val_loss: 1.9194 - val_mae: 1.3791\n",
      "Epoch 19/100\n",
      "1/1 [==============================] - 12s 12s/step - loss: 9.4440 - mae: 2.5154 - val_loss: 5.8925 - val_mae: 2.4239\n",
      "Epoch 20/100\n",
      "1/1 [==============================] - 12s 12s/step - loss: 6.0334 - mae: 1.9913 - val_loss: 17.0962 - val_mae: 4.1325\n",
      "Epoch 21/100\n",
      "1/1 [==============================] - 12s 12s/step - loss: 14.9524 - mae: 3.3418 - val_loss: 5.0132 - val_mae: 2.2352\n",
      "Epoch 22/100\n",
      "1/1 [==============================] - 12s 12s/step - loss: 6.4108 - mae: 2.0480 - val_loss: 0.7518 - val_mae: 0.8596\n",
      "Epoch 23/100\n",
      "1/1 [==============================] - 12s 12s/step - loss: 6.7550 - mae: 2.0873 - val_loss: 4.1373 - val_mae: 2.0296\n",
      "Epoch 24/100\n",
      "1/1 [==============================] - 12s 12s/step - loss: 11.3659 - mae: 2.8346 - val_loss: 0.5674 - val_mae: 0.7476\n",
      "Epoch 25/100\n",
      "1/1 [==============================] - 12s 12s/step - loss: 6.2738 - mae: 2.0097 - val_loss: 2.7867 - val_mae: 1.6643\n",
      "Epoch 26/100\n",
      "1/1 [==============================] - 12s 12s/step - loss: 5.2791 - mae: 1.8568 - val_loss: 8.3985 - val_mae: 2.8950\n",
      "Epoch 27/100\n",
      "1/1 [==============================] - 11s 11s/step - loss: 9.0982 - mae: 2.5053 - val_loss: 3.6021 - val_mae: 1.8935\n",
      "Epoch 28/100\n",
      "1/1 [==============================] - 20s 20s/step - loss: 5.3639 - mae: 1.8850 - val_loss: 0.0272 - val_mae: 0.1350\n",
      "Epoch 29/100\n",
      "1/1 [==============================] - 15s 15s/step - loss: 4.1824 - mae: 1.6187 - val_loss: 1.8481 - val_mae: 1.3530\n",
      "Epoch 30/100\n",
      "1/1 [==============================] - 11s 11s/step - loss: 6.7674 - mae: 2.1191 - val_loss: 0.8626 - val_mae: 0.9202\n",
      "Epoch 31/100\n",
      "1/1 [==============================] - 14s 14s/step - loss: 5.2906 - mae: 1.8400 - val_loss: 0.3374 - val_mae: 0.5664\n",
      "Epoch 32/100\n",
      "1/1 [==============================] - 14s 14s/step - loss: 3.3965 - mae: 1.4696 - val_loss: 3.3095 - val_mae: 1.8146\n",
      "Epoch 33/100\n",
      "1/1 [==============================] - 23s 23s/step - loss: 4.5685 - mae: 1.7508 - val_loss: 3.5331 - val_mae: 1.8752\n",
      "Epoch 34/100\n",
      "1/1 [==============================] - 23s 23s/step - loss: 4.3872 - mae: 1.6985 - val_loss: 0.8415 - val_mae: 0.9083\n",
      "Epoch 35/100\n",
      "1/1 [==============================] - 16s 16s/step - loss: 2.9762 - mae: 1.3712 - val_loss: 0.0858 - val_mae: 0.2821\n",
      "Epoch 36/100\n",
      "1/1 [==============================] - 14s 14s/step - loss: 3.0349 - mae: 1.3808 - val_loss: 0.6592 - val_mae: 0.8054\n",
      "Epoch 37/100\n",
      "1/1 [==============================] - 16s 16s/step - loss: 3.9410 - mae: 1.5873 - val_loss: 0.1060 - val_mae: 0.3170\n",
      "Epoch 38/100\n",
      "1/1 [==============================] - 14s 14s/step - loss: 2.8538 - mae: 1.3447 - val_loss: 0.6871 - val_mae: 0.8189\n",
      "Epoch 39/100\n",
      "1/1 [==============================] - 15s 15s/step - loss: 2.6401 - mae: 1.2981 - val_loss: 2.1893 - val_mae: 1.4740\n",
      "Epoch 40/100\n",
      "1/1 [==============================] - 14s 14s/step - loss: 3.4237 - mae: 1.4890 - val_loss: 1.3474 - val_mae: 1.1536\n",
      "Epoch 41/100\n",
      "1/1 [==============================] - 12s 12s/step - loss: 2.6805 - mae: 1.2886 - val_loss: 0.0781 - val_mae: 0.2479\n",
      "Epoch 42/100\n",
      "1/1 [==============================] - 19s 19s/step - loss: 2.1358 - mae: 1.1593 - val_loss: 0.3284 - val_mae: 0.5691\n",
      "Epoch 43/100\n",
      "1/1 [==============================] - 21s 21s/step - loss: 2.6629 - mae: 1.2985 - val_loss: 0.3789 - val_mae: 0.6114\n",
      "Epoch 44/100\n",
      "1/1 [==============================] - 13s 13s/step - loss: 2.5756 - mae: 1.2820 - val_loss: 0.0170 - val_mae: 0.0747\n",
      "Epoch 45/100\n",
      "1/1 [==============================] - 12s 12s/step - loss: 1.7992 - mae: 1.0664 - val_loss: 0.2511 - val_mae: 0.4842\n",
      "Epoch 46/100\n",
      "1/1 [==============================] - 17s 17s/step - loss: 2.0957 - mae: 1.1407 - val_loss: 0.3242 - val_mae: 0.5546\n",
      "Epoch 47/100\n",
      "1/1 [==============================] - 13s 13s/step - loss: 2.2274 - mae: 1.2052 - val_loss: 0.0790 - val_mae: 0.2498\n",
      "Epoch 48/100\n",
      "1/1 [==============================] - 15s 15s/step - loss: 1.7377 - mae: 1.0632 - val_loss: 0.0791 - val_mae: 0.2694\n",
      "Epoch 49/100\n",
      "1/1 [==============================] - 14s 14s/step - loss: 1.6470 - mae: 1.0183 - val_loss: 0.2819 - val_mae: 0.5269\n",
      "Epoch 50/100\n",
      "1/1 [==============================] - 11s 11s/step - loss: 1.9828 - mae: 1.1315 - val_loss: 0.0999 - val_mae: 0.3069\n",
      "Epoch 51/100\n",
      "1/1 [==============================] - 13s 13s/step - loss: 1.7432 - mae: 1.0524 - val_loss: 0.0512 - val_mae: 0.1859\n",
      "Epoch 52/100\n",
      "1/1 [==============================] - 15s 15s/step - loss: 1.5378 - mae: 0.9853 - val_loss: 0.4004 - val_mae: 0.6195\n",
      "Epoch 53/100\n",
      "1/1 [==============================] - 16s 16s/step - loss: 1.5151 - mae: 0.9772 - val_loss: 0.5422 - val_mae: 0.7250\n",
      "Epoch 54/100\n",
      "1/1 [==============================] - 13s 13s/step - loss: 1.5374 - mae: 0.9976 - val_loss: 0.2153 - val_mae: 0.4457\n",
      "Epoch 55/100\n",
      "1/1 [==============================] - 12s 12s/step - loss: 1.2783 - mae: 0.8925 - val_loss: 0.0243 - val_mae: 0.0871\n",
      "Epoch 56/100\n",
      "1/1 [==============================] - 12s 12s/step - loss: 1.3490 - mae: 0.9267 - val_loss: 0.0259 - val_mae: 0.1299\n",
      "Epoch 57/100\n",
      "1/1 [==============================] - 15s 15s/step - loss: 1.3388 - mae: 0.9294 - val_loss: 0.0168 - val_mae: 0.0699\n",
      "Epoch 58/100\n",
      "1/1 [==============================] - 14s 14s/step - loss: 1.1851 - mae: 0.8749 - val_loss: 0.0534 - val_mae: 0.1917\n",
      "Epoch 59/100\n",
      "1/1 [==============================] - 12s 12s/step - loss: 1.1248 - mae: 0.8406 - val_loss: 0.1069 - val_mae: 0.3004\n",
      "Epoch 60/100\n",
      "1/1 [==============================] - 15s 15s/step - loss: 1.1168 - mae: 0.8415 - val_loss: 0.1077 - val_mae: 0.3018\n",
      "Epoch 61/100\n",
      "1/1 [==============================] - 13s 13s/step - loss: 1.1265 - mae: 0.8400 - val_loss: 0.0354 - val_mae: 0.1365\n",
      "Epoch 62/100\n",
      "1/1 [==============================] - 12s 12s/step - loss: 0.9917 - mae: 0.7844 - val_loss: 0.0218 - val_mae: 0.1108\n",
      "Epoch 63/100\n",
      "1/1 [==============================] - 24s 24s/step - loss: 1.0198 - mae: 0.8006 - val_loss: 0.0242 - val_mae: 0.1228\n",
      "Epoch 64/100\n",
      "1/1 [==============================] - 19s 19s/step - loss: 1.0018 - mae: 0.7910 - val_loss: 0.0167 - val_mae: 0.0645\n",
      "Epoch 65/100\n",
      "1/1 [==============================] - 14s 14s/step - loss: 0.9314 - mae: 0.7659 - val_loss: 0.0314 - val_mae: 0.1214\n",
      "Epoch 66/100\n",
      "1/1 [==============================] - 15s 15s/step - loss: 0.8857 - mae: 0.7487 - val_loss: 0.0518 - val_mae: 0.1875\n",
      "Epoch 67/100\n",
      "1/1 [==============================] - 28s 28s/step - loss: 0.8678 - mae: 0.7374 - val_loss: 0.0334 - val_mae: 0.1295\n",
      "Epoch 68/100\n",
      "1/1 [==============================] - 18s 18s/step - loss: 0.8597 - mae: 0.7416 - val_loss: 0.0182 - val_mae: 0.0867\n",
      "Epoch 69/100\n",
      "1/1 [==============================] - 14s 14s/step - loss: 0.8361 - mae: 0.7298 - val_loss: 0.0448 - val_mae: 0.1909\n",
      "Epoch 70/100\n",
      "1/1 [==============================] - 12s 12s/step - loss: 0.8159 - mae: 0.7232 - val_loss: 0.0501 - val_mae: 0.2056\n",
      "Epoch 71/100\n",
      "1/1 [==============================] - 15s 15s/step - loss: 0.7935 - mae: 0.6961 - val_loss: 0.0270 - val_mae: 0.1342\n",
      "Epoch 72/100\n",
      "1/1 [==============================] - 16s 16s/step - loss: 0.7985 - mae: 0.7105 - val_loss: 0.0172 - val_mae: 0.0771\n",
      "Epoch 73/100\n",
      "1/1 [==============================] - 14s 14s/step - loss: 0.7785 - mae: 0.6997 - val_loss: 0.0168 - val_mae: 0.0694\n",
      "Epoch 74/100\n",
      "1/1 [==============================] - 14s 14s/step - loss: 0.7730 - mae: 0.6986 - val_loss: 0.0187 - val_mae: 0.0909\n",
      "Epoch 75/100\n",
      "1/1 [==============================] - 13s 13s/step - loss: 0.7073 - mae: 0.6713 - val_loss: 0.0278 - val_mae: 0.1372\n",
      "Epoch 76/100\n",
      "1/1 [==============================] - 13s 13s/step - loss: 0.7200 - mae: 0.6818 - val_loss: 0.0189 - val_mae: 0.0926\n",
      "Epoch 77/100\n",
      "1/1 [==============================] - 12s 12s/step - loss: 0.6928 - mae: 0.6611 - val_loss: 0.0173 - val_mae: 0.0556\n",
      "Epoch 78/100\n",
      "1/1 [==============================] - 14s 14s/step - loss: 0.6477 - mae: 0.6377 - val_loss: 0.0186 - val_mae: 0.0517\n",
      "Epoch 79/100\n",
      "1/1 [==============================] - 13s 13s/step - loss: 0.6232 - mae: 0.6303 - val_loss: 0.0169 - val_mae: 0.0590\n",
      "Epoch 80/100\n",
      "1/1 [==============================] - 13s 13s/step - loss: 0.6476 - mae: 0.6334 - val_loss: 0.0194 - val_mae: 0.0962\n",
      "Epoch 81/100\n",
      "1/1 [==============================] - 13s 13s/step - loss: 0.6000 - mae: 0.6164 - val_loss: 0.0229 - val_mae: 0.1169\n",
      "Epoch 82/100\n",
      "1/1 [==============================] - 13s 13s/step - loss: 0.6200 - mae: 0.6222 - val_loss: 0.0177 - val_mae: 0.0829\n",
      "Epoch 83/100\n",
      "1/1 [==============================] - 13s 13s/step - loss: 0.6503 - mae: 0.6368 - val_loss: 0.0211 - val_mae: 0.0663\n",
      "Epoch 84/100\n",
      "1/1 [==============================] - 21s 21s/step - loss: 0.5795 - mae: 0.6022 - val_loss: 0.0219 - val_mae: 0.0720\n",
      "Epoch 85/100\n",
      "1/1 [==============================] - 13s 13s/step - loss: 0.5896 - mae: 0.6053 - val_loss: 0.0170 - val_mae: 0.0582\n",
      "Epoch 86/100\n",
      "1/1 [==============================] - 13s 13s/step - loss: 0.5743 - mae: 0.6031 - val_loss: 0.0170 - val_mae: 0.0734\n",
      "Epoch 87/100\n",
      "1/1 [==============================] - 13s 13s/step - loss: 0.5672 - mae: 0.5984 - val_loss: 0.0179 - val_mae: 0.0845\n",
      "Epoch 88/100\n",
      "1/1 [==============================] - 13s 13s/step - loss: 0.5167 - mae: 0.5715 - val_loss: 0.0173 - val_mae: 0.0782\n",
      "Epoch 89/100\n",
      "1/1 [==============================] - 24s 24s/step - loss: 0.5523 - mae: 0.5918 - val_loss: 0.0167 - val_mae: 0.0632\n",
      "Epoch 90/100\n",
      "1/1 [==============================] - 14s 14s/step - loss: 0.5093 - mae: 0.5657 - val_loss: 0.0168 - val_mae: 0.0600\n",
      "Epoch 91/100\n",
      "1/1 [==============================] - 14s 14s/step - loss: 0.5088 - mae: 0.5679 - val_loss: 0.0168 - val_mae: 0.0694\n",
      "Epoch 92/100\n",
      "1/1 [==============================] - 15s 15s/step - loss: 0.4820 - mae: 0.5478 - val_loss: 0.0179 - val_mae: 0.0847\n",
      "Epoch 93/100\n",
      "1/1 [==============================] - 13s 13s/step - loss: 0.4943 - mae: 0.5547 - val_loss: 0.0167 - val_mae: 0.0639\n",
      "Epoch 94/100\n",
      "1/1 [==============================] - 12s 12s/step - loss: 0.4556 - mae: 0.5315 - val_loss: 0.0216 - val_mae: 0.0701\n",
      "Epoch 95/100\n",
      "1/1 [==============================] - 20s 20s/step - loss: 0.4508 - mae: 0.5362 - val_loss: 0.0214 - val_mae: 0.0690\n",
      "Epoch 96/100\n",
      "1/1 [==============================] - 13s 13s/step - loss: 0.4288 - mae: 0.5178 - val_loss: 0.0171 - val_mae: 0.0756\n",
      "Epoch 97/100\n",
      "1/1 [==============================] - 12s 12s/step - loss: 0.4256 - mae: 0.5154 - val_loss: 0.0206 - val_mae: 0.1045\n",
      "Epoch 98/100\n",
      "1/1 [==============================] - 12s 12s/step - loss: 0.4067 - mae: 0.5012 - val_loss: 0.0167 - val_mae: 0.0655\n",
      "Epoch 99/100\n",
      "1/1 [==============================] - 12s 12s/step - loss: 0.4155 - mae: 0.5145 - val_loss: 0.0204 - val_mae: 0.0609\n",
      "Epoch 100/100\n",
      "1/1 [==============================] - 11s 11s/step - loss: 0.4083 - mae: 0.5034 - val_loss: 0.0203 - val_mae: 0.0606\n",
      "1/1 [==============================] - 2s 2s/step - loss: 0.0203 - mae: 0.0606\n",
      "[0.020338071510195732, 0.06063361093401909]\n",
      "dict_keys(['loss', 'mae', 'val_loss', 'val_mae'])\n"
     ]
    }
   ],
   "source": [
    "#compile, fit and evaluate\n",
    "model.compile(loss='mse', optimizer='adam', metrics=['mae'])\n",
    "history = model.fit(X_train, y_train, epochs=100, batch_size=len(x),  verbose=1, validation_data=(X_test, y_test))\n",
    "score = model.evaluate(X_test, y_test, batch_size=len(x))\n",
    "print(score)\n",
    "print(history.history.keys())"
   ]
  },
  {
   "cell_type": "code",
   "execution_count": 7,
   "metadata": {},
   "outputs": [
    {
     "data": {
      "image/png": "[encoded data removed]",
      "text/plain": [
       "<Figure size 432x288 with 1 Axes>"
      ]
     },
     "metadata": {
      "needs_background": "light"
     },
     "output_type": "display_data"
    }
   ],
   "source": [
    "#Draw a \"Loss\" plot\n",
    "plt.plot(history.history['loss'], color='magenta')\n",
    "plt.plot(history.history['val_loss'], color='navy')\n",
    "plt.title('model loss')\n",
    "plt.ylabel('loss')\n",
    "plt.xlabel('epoch')\n",
    "plt.legend(['train', 'validation'], loc='upper left')\n",
    "plt.show()"
   ]
  },
  {
   "cell_type": "code",
   "execution_count": 8,
   "metadata": {},
   "outputs": [
    {
     "data": {
      "image/png": "[encoded data removed]",
      "text/plain": [
       "<Figure size 432x288 with 1 Axes>"
      ]
     },
     "metadata": {
      "needs_background": "light"
     },
     "output_type": "display_data"
    }
   ],
   "source": [
    "#plot magnification of the loss plot\n",
    "plt.plot(history.history['loss'], color='magenta')\n",
    "plt.plot(history.history['val_loss'], color='navy')\n",
    "plt.title('model loss')\n",
    "plt.ylabel('loss')\n",
    "plt.xlabel('epoch')\n",
    "plt.legend(['train', 'validation'], loc='upper left')\n",
    "plt.ylim((0,1))\n",
    "plt.show()"
   ]
  },
  {
   "cell_type": "code",
   "execution_count": 10,
   "metadata": {},
   "outputs": [
    {
     "name": "stdout",
     "output_type": "stream",
     "text": [
      "X=[0. 0. 0. ... 0. 0. 0.], Predicted=[-0.00141574]\n"
     ]
    }
   ],
   "source": [
    "#prediction with new virus sequence (AY3) \n",
    "d = pd.read_csv('AY3.csv', index_col=[0], header=None)\n",
    "\n",
    "list = []\n",
    "for col in df.columns:\n",
    "    list.append(col)\n",
    "\n",
    "new_df = d[list]\n",
    "Xnew = scaler_x.transform(new_df)\n",
    "ynew= model.predict(Xnew)\n",
    "\n",
    "#invert normalize\n",
    "ynew = scaler_y.inverse_transform(ynew) \n",
    "Xnew = scaler_x.inverse_transform(Xnew)\n",
    "print(\"X=%s, Predicted=%s\" % (Xnew[0], ynew[0]))"
   ]
  }
 ],
 "metadata": {
  "interpreter": {
   "hash": "40d3a090f54c6569ab1632332b64b2c03c39dcf918b08424e98f38b5ae0af88f"
  },
  "kernelspec": {
   "display_name": "Python 3.8.8 ('base')",
   "language": "python",
   "name": "python3"
  },
  "language_info": {
   "codemirror_mode": {
    "name": "ipython",
    "version": 3
   },
   "file_extension": ".py",
   "mimetype": "text/x-python",
   "name": "python",
   "nbconvert_exporter": "python",
   "pygments_lexer": "ipython3",
   "version": "3.8.8"
  },
  "orig_nbformat": 4
 },
 "nbformat": 4,
 "nbformat_minor": 2
}
